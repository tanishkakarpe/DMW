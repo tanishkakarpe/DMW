{
 "cells": [
  {
   "cell_type": "markdown",
   "id": "4a52f550-6581-46a0-8ab4-39890159ed3e",
   "metadata": {},
   "source": [
    "# Construct FP tree  and Apriori algorithm for the given transaction dataset using suitable programming language for association rule. "
   ]
  },
  {
   "cell_type": "code",
   "execution_count": 78,
   "id": "16ead4d7-91cc-4c8d-a8fa-a7120440e5ea",
   "metadata": {},
   "outputs": [
    {
     "data": {
      "text/html": [
       "<div>\n",
       "<style scoped>\n",
       "    .dataframe tbody tr th:only-of-type {\n",
       "        vertical-align: middle;\n",
       "    }\n",
       "\n",
       "    .dataframe tbody tr th {\n",
       "        vertical-align: top;\n",
       "    }\n",
       "\n",
       "    .dataframe thead th {\n",
       "        text-align: right;\n",
       "    }\n",
       "</style>\n",
       "<table border=\"1\" class=\"dataframe\">\n",
       "  <thead>\n",
       "    <tr style=\"text-align: right;\">\n",
       "      <th></th>\n",
       "      <th>Item(s),Item 1,Item 2,Item 3,Item 4,Item 5,Item 6,Item 7,Item 8,Item 9,Item 10,Item 11,Item 12,Item 13,Item 14,Item 15,Item 16,Item 17,Item 18,Item 19,Item 20,Item 21,Item 22,Item 23,Item 24,Item 25,Item 26,Item 27,Item 28,Item 29,Item 30,Item 31,Item 32</th>\n",
       "    </tr>\n",
       "  </thead>\n",
       "  <tbody>\n",
       "    <tr>\n",
       "      <th>0</th>\n",
       "      <td>4,citrus fruit,semi-finished bread,margarine,r...</td>\n",
       "    </tr>\n",
       "    <tr>\n",
       "      <th>1</th>\n",
       "      <td>3,tropical fruit,yogurt,coffee,,,,,,,,,,,,,,,,...</td>\n",
       "    </tr>\n",
       "    <tr>\n",
       "      <th>2</th>\n",
       "      <td>1,whole milk,,,,,,,,,,,,,,,,,,,,,,,,,,,,,,,</td>\n",
       "    </tr>\n",
       "    <tr>\n",
       "      <th>3</th>\n",
       "      <td>4,pip fruit,yogurt,cream cheese,meat spreads,,...</td>\n",
       "    </tr>\n",
       "    <tr>\n",
       "      <th>4</th>\n",
       "      <td>4,other vegetables,whole milk,condensed milk,l...</td>\n",
       "    </tr>\n",
       "  </tbody>\n",
       "</table>\n",
       "</div>"
      ],
      "text/plain": [
       "  Item(s),Item 1,Item 2,Item 3,Item 4,Item 5,Item 6,Item 7,Item 8,Item 9,Item 10,Item 11,Item 12,Item 13,Item 14,Item 15,Item 16,Item 17,Item 18,Item 19,Item 20,Item 21,Item 22,Item 23,Item 24,Item 25,Item 26,Item 27,Item 28,Item 29,Item 30,Item 31,Item 32\n",
       "0  4,citrus fruit,semi-finished bread,margarine,r...                                                                                                                                                                                                            \n",
       "1  3,tropical fruit,yogurt,coffee,,,,,,,,,,,,,,,,...                                                                                                                                                                                                            \n",
       "2        1,whole milk,,,,,,,,,,,,,,,,,,,,,,,,,,,,,,,                                                                                                                                                                                                            \n",
       "3  4,pip fruit,yogurt,cream cheese,meat spreads,,...                                                                                                                                                                                                            \n",
       "4  4,other vegetables,whole milk,condensed milk,l...                                                                                                                                                                                                            "
      ]
     },
     "execution_count": 78,
     "metadata": {},
     "output_type": "execute_result"
    }
   ],
   "source": [
    "# load the datset \n",
    "import pandas as pd \n",
    "df = pd.read_csv(\"groceries - groceries.csv\", delimiter=\";\")\n",
    "df.head()"
   ]
  },
  {
   "cell_type": "markdown",
   "id": "005818ed-bcc0-4468-aa54-18eae3ca4dee",
   "metadata": {},
   "source": [
    "# data preprocessing"
   ]
  },
  {
   "cell_type": "code",
   "execution_count": 80,
   "id": "6f16b23c-3dbd-4416-ac21-edeb63a3a760",
   "metadata": {},
   "outputs": [
    {
     "data": {
      "text/plain": [
       "Item(s),Item 1,Item 2,Item 3,Item 4,Item 5,Item 6,Item 7,Item 8,Item 9,Item 10,Item 11,Item 12,Item 13,Item 14,Item 15,Item 16,Item 17,Item 18,Item 19,Item 20,Item 21,Item 22,Item 23,Item 24,Item 25,Item 26,Item 27,Item 28,Item 29,Item 30,Item 31,Item 32    0\n",
       "dtype: int64"
      ]
     },
     "execution_count": 80,
     "metadata": {},
     "output_type": "execute_result"
    }
   ],
   "source": [
    "# check for null values\n",
    "df.isnull().sum()"
   ]
  },
  {
   "cell_type": "code",
   "execution_count": 82,
   "id": "1f24180d-7b3b-4012-8f2c-f05fdfe66cd0",
   "metadata": {},
   "outputs": [
    {
     "data": {
      "text/plain": [
       "0       False\n",
       "1       False\n",
       "2       False\n",
       "3       False\n",
       "4       False\n",
       "        ...  \n",
       "9830    False\n",
       "9831     True\n",
       "9832    False\n",
       "9833    False\n",
       "9834    False\n",
       "Length: 9835, dtype: bool"
      ]
     },
     "execution_count": 82,
     "metadata": {},
     "output_type": "execute_result"
    }
   ],
   "source": [
    "# according to the result there is no null values,\n",
    "# now check for duplicate values \n",
    "df.duplicated()"
   ]
  },
  {
   "cell_type": "code",
   "execution_count": 84,
   "id": "96bfb62b-6aea-499a-9f56-c8b389c8e6c5",
   "metadata": {},
   "outputs": [],
   "source": [
    "df=df.drop_duplicates()"
   ]
  },
  {
   "cell_type": "code",
   "execution_count": 86,
   "id": "1ef8b43e-cd36-4e5f-9ec4-b6aa9262b5ff",
   "metadata": {},
   "outputs": [
    {
     "data": {
      "text/plain": [
       "0       False\n",
       "1       False\n",
       "2       False\n",
       "3       False\n",
       "4       False\n",
       "        ...  \n",
       "9829    False\n",
       "9830    False\n",
       "9832    False\n",
       "9833    False\n",
       "9834    False\n",
       "Length: 7011, dtype: bool"
      ]
     },
     "execution_count": 86,
     "metadata": {},
     "output_type": "execute_result"
    }
   ],
   "source": [
    "df.duplicated()"
   ]
  },
  {
   "cell_type": "code",
   "execution_count": 88,
   "id": "7bc25064-f21f-4e99-93f3-2d229d1e171c",
   "metadata": {},
   "outputs": [
    {
     "data": {
      "text/plain": [
       "Series([], dtype: object)"
      ]
     },
     "execution_count": 88,
     "metadata": {},
     "output_type": "execute_result"
    }
   ],
   "source": [
    "df.select_dtypes(include=['number']).dtypes\n"
   ]
  },
  {
   "cell_type": "code",
   "execution_count": 90,
   "id": "ad60758a-1c0e-42cf-84c3-2c0bb9dd805b",
   "metadata": {},
   "outputs": [
    {
     "data": {
      "text/plain": [
       "(7011, 1)"
      ]
     },
     "execution_count": 90,
     "metadata": {},
     "output_type": "execute_result"
    }
   ],
   "source": [
    "df.shape"
   ]
  },
  {
   "cell_type": "code",
   "execution_count": 92,
   "id": "cd364f05-c18f-43d2-b7b6-11f2ff7fb86d",
   "metadata": {},
   "outputs": [
    {
     "data": {
      "image/png": "[encoded data removed]",
      "text/plain": [
       "<Figure size 800x600 with 1 Axes>"
      ]
     },
     "metadata": {},
     "output_type": "display_data"
    }
   ],
   "source": [
    "# there is no duplicate values  \n",
    "# now chack for outlier by visulizing the box plot \n",
    "\n",
    "import matplotlib.pyplot as plt\n",
    "\n",
    "from sklearn.preprocessing import LabelEncoder\n",
    "\n",
    "df_encoded = df.apply(LabelEncoder().fit_transform)  # Converts categories to numbers\n",
    "df_encoded.boxplot(figsize=(8,6))\n",
    "plt.show()\n"
   ]
  },
  {
   "cell_type": "code",
   "execution_count": 94,
   "id": "3e149df6-1c05-4fb5-9c65-d434ca13be6b",
   "metadata": {},
   "outputs": [],
   "source": [
    "# According the the boxplot it clearly we can understood that there is no outliers int the datset \n",
    "# so now our dataset is ready for further operations "
   ]
  },
  {
   "cell_type": "code",
   "execution_count": 96,
   "id": "bc4f0b91-6f1f-4f19-a930-9c3932d1d9f1",
   "metadata": {},
   "outputs": [],
   "source": [
    "\n",
    "# These algorithms are used to find frequent itemsets—sets of items that occur together in a dataset above a certain frequency threshold (support). \n",
    "from mlxtend.frequent_patterns import fpgrowth, apriori\n",
    "from mlxtend.frequent_patterns import association_rules\n"
   ]
  },
  {
   "cell_type": "code",
   "execution_count": null,
   "id": "bb19bca9-f609-463a-9096-848244e450db",
   "metadata": {},
   "outputs": [],
   "source": []
  },
  {
   "cell_type": "code",
   "execution_count": 99,
   "id": "b56a531c-27f2-495b-80a1-0ac08fe116f7",
   "metadata": {},
   "outputs": [
    {
     "name": "stdout",
     "output_type": "stream",
     "text": [
      "Index(['Item(s),Item 1,Item 2,Item 3,Item 4,Item 5,Item 6,Item 7,Item 8,Item 9,Item 10,Item 11,Item 12,Item 13,Item 14,Item 15,Item 16,Item 17,Item 18,Item 19,Item 20,Item 21,Item 22,Item 23,Item 24,Item 25,Item 26,Item 27,Item 28,Item 29,Item 30,Item 31,Item 32'], dtype='object')\n"
     ]
    }
   ],
   "source": [
    "# Check the column names\n",
    "print(df.columns)\n"
   ]
  },
  {
   "cell_type": "code",
   "execution_count": 101,
   "id": "7ce56016-4b55-4a8d-ac78-40f7a98b299d",
   "metadata": {},
   "outputs": [],
   "source": [
    "#  this step is crucial to convert the dataset from a single column of comma-separated items to a more structured format \n",
    "# (a list of items for each transaction), which is essential for association rule mining algorithms to work properly."
   ]
  },
  {
   "cell_type": "code",
   "execution_count": 103,
   "id": "d7c3bcde-c3ae-43ad-9129-9ac41953cdf9",
   "metadata": {},
   "outputs": [],
   "source": [
    "# Split each transaction into a list of items\n",
    "transactions = df.iloc[:, 0].str.split(',')"
   ]
  },
  {
   "cell_type": "code",
   "execution_count": 105,
   "id": "6403b014-d873-4cda-a923-336eab822478",
   "metadata": {},
   "outputs": [
    {
     "name": "stdout",
     "output_type": "stream",
     "text": [
      "      1  10  11  12  13  14  15  16  17  ...  turkey  vinegar  waffles  \\\n",
      "0  1  0   0   0   0   0   0   0   0   0  ...       0        0        0   \n",
      "1  1  0   0   0   0   0   0   0   0   0  ...       0        0        0   \n",
      "2  1  1   0   0   0   0   0   0   0   0  ...       0        0        0   \n",
      "3  1  0   0   0   0   0   0   0   0   0  ...       0        0        0   \n",
      "4  1  0   0   0   0   0   0   0   0   0  ...       0        0        0   \n",
      "\n",
      "   whipped/sour cream  whisky  white bread  white wine  whole milk  yogurt  \\\n",
      "0                   0       0            0           0           0       0   \n",
      "1                   0       0            0           0           0       1   \n",
      "2                   0       0            0           0           1       0   \n",
      "3                   0       0            0           0           0       1   \n",
      "4                   0       0            0           0           1       0   \n",
      "\n",
      "   zwieback  \n",
      "0         0  \n",
      "1         0  \n",
      "2         0  \n",
      "3         0  \n",
      "4         0  \n",
      "\n",
      "[5 rows x 199 columns]\n"
     ]
    }
   ],
   "source": [
    "# Get all unique items\n",
    "unique_items = sorted(set(item for transaction in transactions for item in transaction))\n",
    "\n",
    "# Create a one-hot encoded DataFrame\n",
    "encoded_data = [{item: (item in transaction) for item in unique_items} for transaction in transactions]\n",
    "df_encoded = pd.DataFrame(encoded_data).astype(int)\n",
    "print(df_encoded.head())"
   ]
  },
  {
   "cell_type": "code",
   "execution_count": 106,
   "id": "ec8d8112-649f-456e-ae31-3ea4459593ed",
   "metadata": {},
   "outputs": [
    {
     "name": "stdout",
     "output_type": "stream",
     "text": [
      "\n",
      "7010\n"
     ]
    }
   ],
   "source": [
    "# 1. Finding the most frequent items\n",
    "item_frequencies = df_encoded.sum(axis=0).sort_values(ascending=False)\n",
    "max_frequent_item = item_frequencies.idxmax()\n",
    "print(max_frequent_item)\n",
    "max_frequent_item_frequency = item_frequencies.max()\n",
    "print(max_frequent_item_frequency)\n"
   ]
  },
  {
   "cell_type": "code",
   "execution_count": 111,
   "id": "41e58bbd-7dc5-4116-bffb-851dae5e9fd8",
   "metadata": {},
   "outputs": [
    {
     "name": "stdout",
     "output_type": "stream",
     "text": [
      "7011\n"
     ]
    }
   ],
   "source": [
    "# 2. How many transactions does it contain\n",
    "num_transactions = len(transactions)\n",
    "print(num_transactions)"
   ]
  },
  {
   "cell_type": "code",
   "execution_count": 113,
   "id": "ae01a7d9-5409-44ad-938f-dade250fd40a",
   "metadata": {},
   "outputs": [
    {
     "name": "stderr",
     "output_type": "stream",
     "text": [
      "C:\\Users\\tanis\\anaconda3\\Lib\\site-packages\\mlxtend\\frequent_patterns\\fpcommon.py:161: DeprecationWarning: DataFrames with non-bool types result in worse computationalperformance and their support might be discontinued in the future.Please use a DataFrame with bool type\n",
      "  warnings.warn(\n"
     ]
    },
    {
     "name": "stdout",
     "output_type": "stream",
     "text": [
      "      support                 itemsets\n",
      "0    0.999857                       ()\n",
      "1    0.141207                      (4)\n",
      "2    0.111539           (citrus fruit)\n",
      "3    0.080017              (margarine)\n",
      "4    0.180288                 (yogurt)\n",
      "..        ...                      ...\n",
      "238  0.037227  (, specialty chocolate)\n",
      "239  0.036657         (, frozen meals)\n",
      "240  0.042505               (, onions)\n",
      "241  0.033947        (, sliced cheese)\n",
      "242  0.034802                 (, meat)\n",
      "\n",
      "[243 rows x 2 columns]\n"
     ]
    }
   ],
   "source": [
    "# 3. Simulating frequent patterns using FP-Growth\n",
    "frequent_itemsets_fp = fpgrowth(df_encoded, min_support=0.03, use_colnames=True)\n",
    "print(frequent_itemsets_fp)"
   ]
  },
  {
   "cell_type": "code",
   "execution_count": 43,
   "id": "332ad2a3-70fd-4155-9fad-69ace72f1d1b",
   "metadata": {},
   "outputs": [
    {
     "name": "stdout",
     "output_type": "stream",
     "text": [
      "             antecedents         consequents  antecedent support  \\\n",
      "0           (whole milk)            (yogurt)            0.316976   \n",
      "1               (yogurt)        (whole milk)            0.180314   \n",
      "2               (yogurt)              (soda)            0.180314   \n",
      "3           (rolls/buns)            (yogurt)            0.211555   \n",
      "4               (yogurt)        (rolls/buns)            0.180314   \n",
      "..                   ...                 ...                 ...   \n",
      "61  (whipped/sour cream)  (other vegetables)            0.094151   \n",
      "62                (pork)        (whole milk)            0.075321   \n",
      "63       (domestic eggs)        (whole milk)            0.086305   \n",
      "64       (domestic eggs)  (other vegetables)            0.086305   \n",
      "65           (margarine)        (whole milk)            0.079886   \n",
      "\n",
      "    consequent support   support  confidence      lift  leverage  conviction  \\\n",
      "0             0.180314  0.076890    0.242574  1.345289  0.019735    1.082200   \n",
      "1             0.316976  0.076890    0.426424  1.345289  0.019735    1.190817   \n",
      "2             0.195720  0.037803    0.209652  1.071181  0.002512    1.017627   \n",
      "3             0.180314  0.046505    0.219825  1.219123  0.008359    1.050644   \n",
      "4             0.211555  0.046505    0.257911  1.219123  0.008359    1.062468   \n",
      "..                 ...       ...         ...       ...       ...         ...   \n",
      "61            0.251926  0.039800    0.422727  1.677983  0.016081    1.295877   \n",
      "62            0.316976  0.030813    0.409091  1.290606  0.006938    1.155887   \n",
      "63            0.316976  0.041655    0.482645  1.522655  0.014298    1.320223   \n",
      "64            0.251926  0.031098    0.360331  1.430304  0.009356    1.169470   \n",
      "65            0.316976  0.033666    0.421429  1.329529  0.008344    1.180536   \n",
      "\n",
      "    zhangs_metric  \n",
      "0        0.375778  \n",
      "1        0.313126  \n",
      "2        0.081068  \n",
      "3        0.227965  \n",
      "4        0.219277  \n",
      "..            ...  \n",
      "61       0.446042  \n",
      "62       0.243512  \n",
      "63       0.375675  \n",
      "64       0.329265  \n",
      "65       0.269373  \n",
      "\n",
      "[66 rows x 10 columns]\n"
     ]
    }
   ],
   "source": [
    "# Generate association rules based on frequent itemsets\n",
    "association_rules_fp = association_rules(frequent_itemsets_fp, metric=\"confidence\", min_threshold=0.2)\n",
    "print(association_rules_fp)"
   ]
  },
  {
   "cell_type": "code",
   "execution_count": 115,
   "id": "b5f0d5a2-ca1a-45e4-96d9-c7b18a16f2fe",
   "metadata": {},
   "outputs": [
    {
     "name": "stderr",
     "output_type": "stream",
     "text": [
      "C:\\Users\\tanis\\anaconda3\\Lib\\site-packages\\mlxtend\\frequent_patterns\\fpcommon.py:161: DeprecationWarning: DataFrames with non-bool types result in worse computationalperformance and their support might be discontinued in the future.Please use a DataFrame with bool type\n",
      "  warnings.warn(\n"
     ]
    },
    {
     "name": "stdout",
     "output_type": "stream",
     "text": [
      "      support                                           itemsets\n",
      "0    0.999857                                                 ()\n",
      "1    0.035088                                               (10)\n",
      "2    0.134931                                                (2)\n",
      "3    0.171445                                                (3)\n",
      "4    0.141207                                                (4)\n",
      "..        ...                                                ...\n",
      "238  0.076737                             (, whole milk, yogurt)\n",
      "239  0.032520    (whole milk, root vegetables, other vegetables)\n",
      "240  0.031094             (whole milk, yogurt, other vegetables)\n",
      "241  0.032378  (, root vegetables, whole milk, other vegetables)\n",
      "242  0.030951           (, yogurt, whole milk, other vegetables)\n",
      "\n",
      "[243 rows x 2 columns]\n"
     ]
    }
   ],
   "source": [
    "# Apply Apriori to get frequent itemsets\n",
    "frequent_itemsets_apriori = apriori(df_encoded, min_support=0.03, use_colnames=True)\n",
    "print(frequent_itemsets_apriori)"
   ]
  },
  {
   "cell_type": "code",
   "execution_count": 117,
   "id": "7874f9c4-fad6-424c-b79d-3ee171cfa5f8",
   "metadata": {},
   "outputs": [
    {
     "name": "stdout",
     "output_type": "stream",
     "text": [
      "                                antecedents           consequents  \\\n",
      "0                                      (10)                    ()   \n",
      "1                                       (2)                    ()   \n",
      "2                                       (3)                    ()   \n",
      "3                                       (4)                    ()   \n",
      "4                                       (5)                    ()   \n",
      "..                                      ...                   ...   \n",
      "327        (, whole milk, other vegetables)              (yogurt)   \n",
      "328  (whole milk, yogurt, other vegetables)                    ()   \n",
      "329                    (whole milk, yogurt)  (, other vegetables)   \n",
      "330              (yogurt, other vegetables)        (, whole milk)   \n",
      "331          (whole milk, other vegetables)            (, yogurt)   \n",
      "\n",
      "     antecedent support  consequent support   support  confidence      lift  \\\n",
      "0              0.035088            0.999857  0.035088    1.000000  1.000143   \n",
      "1              0.134931            0.999857  0.134931    1.000000  1.000143   \n",
      "2              0.171445            0.999857  0.171445    1.000000  1.000143   \n",
      "3              0.141207            0.999857  0.141207    1.000000  1.000143   \n",
      "4              0.121951            0.999857  0.121951    1.000000  1.000143   \n",
      "..                  ...                 ...       ...         ...       ...   \n",
      "327            0.103409            0.180288  0.030951    0.299310  1.660178   \n",
      "328            0.031094            0.999857  0.030951    0.995413  0.995555   \n",
      "329            0.076879            0.251747  0.030951    0.402597  1.599213   \n",
      "330            0.059763            0.316788  0.030951    0.517900  1.634847   \n",
      "331            0.103552            0.180145  0.030951    0.298898  1.659204   \n",
      "\n",
      "     representativity  leverage  conviction  zhangs_metric   jaccard  \\\n",
      "0                 1.0  0.000005         inf       0.000148  0.035093   \n",
      "1                 1.0  0.000019         inf       0.000165  0.134950   \n",
      "2                 1.0  0.000024         inf       0.000172  0.171469   \n",
      "3                 1.0  0.000020         inf       0.000166  0.141227   \n",
      "4                 1.0  0.000017         inf       0.000162  0.121969   \n",
      "..                ...       ...         ...            ...       ...   \n",
      "327               1.0  0.012308    1.169864       0.443519  0.122460   \n",
      "328               1.0 -0.000138    0.031094      -0.004587  0.030951   \n",
      "329               1.0  0.011597    1.252510       0.405897  0.103977   \n",
      "330               1.0  0.012019    1.417158       0.413004  0.089558   \n",
      "331               1.0  0.012297    1.169380       0.443195  0.122460   \n",
      "\n",
      "     certainty  kulczynski  \n",
      "0     1.000000    0.517546  \n",
      "1     1.000000    0.567475  \n",
      "2     1.000000    0.585735  \n",
      "3     1.000000    0.570613  \n",
      "4     1.000000    0.560984  \n",
      "..         ...         ...  \n",
      "327   0.145200    0.235494  \n",
      "328 -31.160550    0.513184  \n",
      "329   0.201603    0.262772  \n",
      "330   0.294362    0.307802  \n",
      "331   0.144846    0.235356  \n",
      "\n",
      "[332 rows x 14 columns]\n"
     ]
    }
   ],
   "source": [
    "# Generate association rules for Apriori\n",
    "association_rules_apriori = association_rules(frequent_itemsets_apriori, metric=\"confidence\", min_threshold=0.2)\n",
    "print(association_rules_apriori)"
   ]
  },
  {
   "cell_type": "code",
   "execution_count": 119,
   "id": "1c045a00-dfff-4f06-8bc7-ee3cf691d765",
   "metadata": {},
   "outputs": [
    {
     "name": "stdout",
     "output_type": "stream",
     "text": [
      "\n",
      "Comparative Analysis:\n",
      "1. FP-tree generally requires fewer passes through the data (only 2) compared to Apriori, which makes it faster.\n",
      "2. FP-tree can handle large datasets more efficiently due to its tree structure and avoids the generation of candidate itemsets.\n",
      "3. Apriori can become inefficient with larger datasets due to candidate generation and multiple passes.\n"
     ]
    }
   ],
   "source": [
    "# 4. Comparative Analysis: FP-tree vs Apriori\n",
    "print(\"\\nComparative Analysis:\")\n",
    "print(\"1. FP-tree generally requires fewer passes through the data (only 2) compared to Apriori, which makes it faster.\")\n",
    "print(\"2. FP-tree can handle large datasets more efficiently due to its tree structure and avoids the generation of candidate itemsets.\")\n",
    "print(\"3. Apriori can become inefficient with larger datasets due to candidate generation and multiple passes.\")"
   ]
  },
  {
   "cell_type": "code",
   "execution_count": null,
   "id": "e9563dce-1de8-4b3d-8508-3391f7fe6b83",
   "metadata": {},
   "outputs": [],
   "source": []
  },
  {
   "cell_type": "code",
   "execution_count": null,
   "id": "0ecab8df-740a-4947-9f95-1de1d9767963",
   "metadata": {},
   "outputs": [],
   "source": []
  },
  {
   "cell_type": "code",
   "execution_count": null,
   "id": "1511a1b8-01d8-4b27-8a71-aeec8011ff4e",
   "metadata": {},
   "outputs": [],
   "source": []
  }
 ],
 "metadata": {
  "kernelspec": {
   "display_name": "Python 3 (ipykernel)",
   "language": "python",
   "name": "python3"
  },
  "language_info": {
   "codemirror_mode": {
    "name": "ipython",
    "version": 3
   },
   "file_extension": ".py",
   "mimetype": "text/x-python",
   "name": "python",
   "nbconvert_exporter": "python",
   "pygments_lexer": "ipython3",
   "version": "3.11.7"
  }
 },
 "nbformat": 4,
 "nbformat_minor": 5
}
