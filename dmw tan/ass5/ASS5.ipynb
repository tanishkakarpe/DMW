{
 "cells": [
  {
   "cell_type": "code",
   "execution_count": 37,
   "id": "5861f601-db39-49fb-841f-c41242d3bee0",
   "metadata": {},
   "outputs": [],
   "source": [
    "#load librearies\n",
    "import pandas as pd\n",
    "#text preprocessing\n",
    "import nltk\n",
    "from nltk.corpus import stopwords\n",
    "from nltk.stem import PorterStemmer\n",
    "from nltk.tokenize import word_tokenize\n",
    "import string\n",
    "#feature extraction and selection\n",
    "from sklearn.feature_extraction.text import TfidfVectorizer\n",
    "from sklearn.feature_selection import SelectKBest, chi2\n",
    "from sklearn.preprocessing import LabelEncoder\n",
    "# classification\n",
    "from sklearn.model_selection import train_test_split\n",
    "from sklearn.naive_bayes import MultinomialNB\n",
    "from sklearn.metrics import classification_report"
   ]
  },
  {
   "cell_type": "code",
   "execution_count": 39,
   "id": "98660bc5-6615-4179-8a13-273265c1ce89",
   "metadata": {},
   "outputs": [],
   "source": [
    "#load the dataset\n",
    "df=pd.read_csv(\"IMDB Dataset.csv\")"
   ]
  },
  {
   "cell_type": "code",
   "execution_count": 40,
   "id": "e96c0c4a-e1da-41fe-a5f6-1436b21b3532",
   "metadata": {},
   "outputs": [
    {
     "data": {
      "text/html": [
       "<div>\n",
       "<style scoped>\n",
       "    .dataframe tbody tr th:only-of-type {\n",
       "        vertical-align: middle;\n",
       "    }\n",
       "\n",
       "    .dataframe tbody tr th {\n",
       "        vertical-align: top;\n",
       "    }\n",
       "\n",
       "    .dataframe thead th {\n",
       "        text-align: right;\n",
       "    }\n",
       "</style>\n",
       "<table border=\"1\" class=\"dataframe\">\n",
       "  <thead>\n",
       "    <tr style=\"text-align: right;\">\n",
       "      <th></th>\n",
       "      <th>review</th>\n",
       "      <th>sentiment</th>\n",
       "      <th>Unnamed: 2</th>\n",
       "      <th>Unnamed: 3</th>\n",
       "      <th>Unnamed: 4</th>\n",
       "      <th>Unnamed: 5</th>\n",
       "      <th>Unnamed: 6</th>\n",
       "      <th>Unnamed: 7</th>\n",
       "      <th>Unnamed: 8</th>\n",
       "      <th>Unnamed: 9</th>\n",
       "      <th>Unnamed: 10</th>\n",
       "      <th>Unnamed: 11</th>\n",
       "      <th>Unnamed: 12</th>\n",
       "      <th>Unnamed: 13</th>\n",
       "    </tr>\n",
       "  </thead>\n",
       "  <tbody>\n",
       "    <tr>\n",
       "      <th>0</th>\n",
       "      <td>One of the other reviewers has mentioned that ...</td>\n",
       "      <td>positive</td>\n",
       "      <td>NaN</td>\n",
       "      <td>NaN</td>\n",
       "      <td>NaN</td>\n",
       "      <td>NaN</td>\n",
       "      <td>NaN</td>\n",
       "      <td>NaN</td>\n",
       "      <td>NaN</td>\n",
       "      <td>NaN</td>\n",
       "      <td>NaN</td>\n",
       "      <td>NaN</td>\n",
       "      <td>NaN</td>\n",
       "      <td>NaN</td>\n",
       "    </tr>\n",
       "    <tr>\n",
       "      <th>1</th>\n",
       "      <td>A wonderful little production. &lt;br /&gt;&lt;br /&gt;The...</td>\n",
       "      <td>positive</td>\n",
       "      <td>NaN</td>\n",
       "      <td>NaN</td>\n",
       "      <td>NaN</td>\n",
       "      <td>NaN</td>\n",
       "      <td>NaN</td>\n",
       "      <td>NaN</td>\n",
       "      <td>NaN</td>\n",
       "      <td>NaN</td>\n",
       "      <td>NaN</td>\n",
       "      <td>NaN</td>\n",
       "      <td>NaN</td>\n",
       "      <td>NaN</td>\n",
       "    </tr>\n",
       "    <tr>\n",
       "      <th>2</th>\n",
       "      <td>I thought this was a wonderful way to spend ti...</td>\n",
       "      <td>positive</td>\n",
       "      <td>NaN</td>\n",
       "      <td>NaN</td>\n",
       "      <td>NaN</td>\n",
       "      <td>NaN</td>\n",
       "      <td>NaN</td>\n",
       "      <td>NaN</td>\n",
       "      <td>NaN</td>\n",
       "      <td>NaN</td>\n",
       "      <td>NaN</td>\n",
       "      <td>NaN</td>\n",
       "      <td>NaN</td>\n",
       "      <td>NaN</td>\n",
       "    </tr>\n",
       "    <tr>\n",
       "      <th>3</th>\n",
       "      <td>Basically there's a family where a little boy ...</td>\n",
       "      <td>negative</td>\n",
       "      <td>NaN</td>\n",
       "      <td>NaN</td>\n",
       "      <td>NaN</td>\n",
       "      <td>NaN</td>\n",
       "      <td>NaN</td>\n",
       "      <td>NaN</td>\n",
       "      <td>NaN</td>\n",
       "      <td>NaN</td>\n",
       "      <td>NaN</td>\n",
       "      <td>NaN</td>\n",
       "      <td>NaN</td>\n",
       "      <td>NaN</td>\n",
       "    </tr>\n",
       "  </tbody>\n",
       "</table>\n",
       "</div>"
      ],
      "text/plain": [
       "                                              review sentiment Unnamed: 2  \\\n",
       "0  One of the other reviewers has mentioned that ...  positive        NaN   \n",
       "1  A wonderful little production. <br /><br />The...  positive        NaN   \n",
       "2  I thought this was a wonderful way to spend ti...  positive        NaN   \n",
       "3  Basically there's a family where a little boy ...  negative        NaN   \n",
       "\n",
       "  Unnamed: 3 Unnamed: 4 Unnamed: 5 Unnamed: 6 Unnamed: 7 Unnamed: 8  \\\n",
       "0        NaN        NaN        NaN        NaN        NaN        NaN   \n",
       "1        NaN        NaN        NaN        NaN        NaN        NaN   \n",
       "2        NaN        NaN        NaN        NaN        NaN        NaN   \n",
       "3        NaN        NaN        NaN        NaN        NaN        NaN   \n",
       "\n",
       "  Unnamed: 9 Unnamed: 10 Unnamed: 11 Unnamed: 12 Unnamed: 13  \n",
       "0        NaN         NaN         NaN         NaN         NaN  \n",
       "1        NaN         NaN         NaN         NaN         NaN  \n",
       "2        NaN         NaN         NaN         NaN         NaN  \n",
       "3        NaN         NaN         NaN         NaN         NaN  "
      ]
     },
     "execution_count": 40,
     "metadata": {},
     "output_type": "execute_result"
    }
   ],
   "source": [
    "#sample of dataset\n",
    "df.head(4)"
   ]
  },
  {
   "cell_type": "code",
   "execution_count": 43,
   "id": "7f4e5a26-6032-4a54-95f1-fc5f0e767fe8",
   "metadata": {},
   "outputs": [],
   "source": [
    "# Dataset Overview: IMDB Movie Review Dataset\n",
    "#working with a dataset that contains movie reviews along with their sentiment labels. \n",
    "\n",
    "#Column Name\tDescription\n",
    "\n",
    "#review\tThis column contains the actual text of the movie review. It's usually unstructured (raw) text, and may include HTML tags, punctuation, mixed cases, etc.\n",
    "\n",
    "#sentiment\tThis column indicates the sentiment label for the review — typically either \"positive\" or \"negative\".\n",
    "\n",
    "# Use the review column as input and sentiment column as output:\n",
    "\n",
    "#Text Preprocessing-->review\n",
    "\n",
    "#Feature Extraction (TF-IDF)-->\treview\n",
    "\n",
    "#Feature Selection (Chi-Square)-->\treview, sentiment\n",
    "\n",
    "#Classification (Naive Bayes)--> review, sentiment\n",
    "\n",
    "#Evaluation (Precision, Recall) --> Model predictions vs sentiment"
   ]
  },
  {
   "cell_type": "code",
   "execution_count": 45,
   "id": "4516852c-3222-497f-97e8-a23aca962226",
   "metadata": {},
   "outputs": [
    {
     "data": {
      "text/plain": [
       "Index(['review', 'sentiment', 'Unnamed: 2', 'Unnamed: 3', 'Unnamed: 4',\n",
       "       'Unnamed: 5', 'Unnamed: 6', 'Unnamed: 7', 'Unnamed: 8', 'Unnamed: 9',\n",
       "       'Unnamed: 10', 'Unnamed: 11', 'Unnamed: 12', 'Unnamed: 13'],\n",
       "      dtype='object')"
      ]
     },
     "execution_count": 45,
     "metadata": {},
     "output_type": "execute_result"
    }
   ],
   "source": [
    "#columns of dataset\n",
    "df.columns"
   ]
  },
  {
   "cell_type": "code",
   "execution_count": 47,
   "id": "486fc8fc-f43b-4c5d-b552-5bd1cf8c19c5",
   "metadata": {},
   "outputs": [
    {
     "data": {
      "text/plain": [
       "review             0\n",
       "sentiment          0\n",
       "Unnamed: 2     49998\n",
       "Unnamed: 3     49998\n",
       "Unnamed: 4     49998\n",
       "Unnamed: 5     49998\n",
       "Unnamed: 6     49998\n",
       "Unnamed: 7     49998\n",
       "Unnamed: 8     49998\n",
       "Unnamed: 9     49998\n",
       "Unnamed: 10    49998\n",
       "Unnamed: 11    49998\n",
       "Unnamed: 12    49998\n",
       "Unnamed: 13    49998\n",
       "dtype: int64"
      ]
     },
     "execution_count": 47,
     "metadata": {},
     "output_type": "execute_result"
    }
   ],
   "source": [
    "#check for null values\n",
    "df.isnull().sum()"
   ]
  },
  {
   "cell_type": "code",
   "execution_count": 49,
   "id": "c873c53c-9b0c-4814-9694-e8910b3cf0c3",
   "metadata": {},
   "outputs": [
    {
     "data": {
      "text/plain": [
       "(49999, 14)"
      ]
     },
     "execution_count": 49,
     "metadata": {},
     "output_type": "execute_result"
    }
   ],
   "source": [
    "#check the shape of dataset\n",
    "df.shape"
   ]
  },
  {
   "cell_type": "code",
   "execution_count": 51,
   "id": "9989ecb7-0d47-4090-acbf-e03f9d7cdcc2",
   "metadata": {},
   "outputs": [
    {
     "name": "stdout",
     "output_type": "stream",
     "text": [
      "<class 'pandas.core.frame.DataFrame'>\n",
      "RangeIndex: 49999 entries, 0 to 49998\n",
      "Data columns (total 14 columns):\n",
      " #   Column       Non-Null Count  Dtype \n",
      "---  ------       --------------  ----- \n",
      " 0   review       49999 non-null  object\n",
      " 1   sentiment    49999 non-null  object\n",
      " 2   Unnamed: 2   1 non-null      object\n",
      " 3   Unnamed: 3   1 non-null      object\n",
      " 4   Unnamed: 4   1 non-null      object\n",
      " 5   Unnamed: 5   1 non-null      object\n",
      " 6   Unnamed: 6   1 non-null      object\n",
      " 7   Unnamed: 7   1 non-null      object\n",
      " 8   Unnamed: 8   1 non-null      object\n",
      " 9   Unnamed: 9   1 non-null      object\n",
      " 10  Unnamed: 10  1 non-null      object\n",
      " 11  Unnamed: 11  1 non-null      object\n",
      " 12  Unnamed: 12  1 non-null      object\n",
      " 13  Unnamed: 13  1 non-null      object\n",
      "dtypes: object(14)\n",
      "memory usage: 5.3+ MB\n"
     ]
    }
   ],
   "source": [
    "#information of dataset\n",
    "df.info()"
   ]
  },
  {
   "cell_type": "code",
   "execution_count": 53,
   "id": "897298a7-9176-4155-af96-31cb359af7a7",
   "metadata": {},
   "outputs": [
    {
     "data": {
      "text/html": [
       "<div>\n",
       "<style scoped>\n",
       "    .dataframe tbody tr th:only-of-type {\n",
       "        vertical-align: middle;\n",
       "    }\n",
       "\n",
       "    .dataframe tbody tr th {\n",
       "        vertical-align: top;\n",
       "    }\n",
       "\n",
       "    .dataframe thead th {\n",
       "        text-align: right;\n",
       "    }\n",
       "</style>\n",
       "<table border=\"1\" class=\"dataframe\">\n",
       "  <thead>\n",
       "    <tr style=\"text-align: right;\">\n",
       "      <th></th>\n",
       "      <th>review</th>\n",
       "      <th>sentiment</th>\n",
       "      <th>Unnamed: 2</th>\n",
       "      <th>Unnamed: 3</th>\n",
       "      <th>Unnamed: 4</th>\n",
       "      <th>Unnamed: 5</th>\n",
       "      <th>Unnamed: 6</th>\n",
       "      <th>Unnamed: 7</th>\n",
       "      <th>Unnamed: 8</th>\n",
       "      <th>Unnamed: 9</th>\n",
       "      <th>Unnamed: 10</th>\n",
       "      <th>Unnamed: 11</th>\n",
       "      <th>Unnamed: 12</th>\n",
       "      <th>Unnamed: 13</th>\n",
       "    </tr>\n",
       "  </thead>\n",
       "  <tbody>\n",
       "    <tr>\n",
       "      <th>count</th>\n",
       "      <td>49999</td>\n",
       "      <td>49999</td>\n",
       "      <td>1</td>\n",
       "      <td>1</td>\n",
       "      <td>1</td>\n",
       "      <td>1</td>\n",
       "      <td>1</td>\n",
       "      <td>1</td>\n",
       "      <td>1</td>\n",
       "      <td>1</td>\n",
       "      <td>1</td>\n",
       "      <td>1</td>\n",
       "      <td>1</td>\n",
       "      <td>1</td>\n",
       "    </tr>\n",
       "    <tr>\n",
       "      <th>unique</th>\n",
       "      <td>49581</td>\n",
       "      <td>3</td>\n",
       "      <td>1</td>\n",
       "      <td>1</td>\n",
       "      <td>1</td>\n",
       "      <td>1</td>\n",
       "      <td>1</td>\n",
       "      <td>1</td>\n",
       "      <td>1</td>\n",
       "      <td>1</td>\n",
       "      <td>1</td>\n",
       "      <td>1</td>\n",
       "      <td>1</td>\n",
       "      <td>1</td>\n",
       "    </tr>\n",
       "    <tr>\n",
       "      <th>top</th>\n",
       "      <td>Loved today's show!!! It was a variety and not...</td>\n",
       "      <td>positive</td>\n",
       "      <td>Jerry and David Zucker cast one of its stars ...</td>\n",
       "      <td>a glorious take-off of old U.S. detective sho...</td>\n",
       "      <td>America's answer to 'Inspector Clouseau'. It ...</td>\n",
       "      <td>unnoticed absurdities</td>\n",
       "      <td>and recurring characters such as Johnny the s...</td>\n",
       "      <td>but I think it was about right. The concept c...</td>\n",
       "      <td>'Police Squad' made a successful transfer to ...</td>\n",
       "      <td>when the first of the 'Naked Gun' trilogy was...</td>\n",
       "      <td>Jerry</td>\n",
       "      <td>David</td>\n",
       "      <td>and Leslie had the last laugh.\"</td>\n",
       "      <td>positive</td>\n",
       "    </tr>\n",
       "    <tr>\n",
       "      <th>freq</th>\n",
       "      <td>5</td>\n",
       "      <td>24999</td>\n",
       "      <td>1</td>\n",
       "      <td>1</td>\n",
       "      <td>1</td>\n",
       "      <td>1</td>\n",
       "      <td>1</td>\n",
       "      <td>1</td>\n",
       "      <td>1</td>\n",
       "      <td>1</td>\n",
       "      <td>1</td>\n",
       "      <td>1</td>\n",
       "      <td>1</td>\n",
       "      <td>1</td>\n",
       "    </tr>\n",
       "  </tbody>\n",
       "</table>\n",
       "</div>"
      ],
      "text/plain": [
       "                                                   review sentiment  \\\n",
       "count                                               49999     49999   \n",
       "unique                                              49581         3   \n",
       "top     Loved today's show!!! It was a variety and not...  positive   \n",
       "freq                                                    5     24999   \n",
       "\n",
       "                                               Unnamed: 2  \\\n",
       "count                                                   1   \n",
       "unique                                                  1   \n",
       "top      Jerry and David Zucker cast one of its stars ...   \n",
       "freq                                                    1   \n",
       "\n",
       "                                               Unnamed: 3  \\\n",
       "count                                                   1   \n",
       "unique                                                  1   \n",
       "top      a glorious take-off of old U.S. detective sho...   \n",
       "freq                                                    1   \n",
       "\n",
       "                                               Unnamed: 4  \\\n",
       "count                                                   1   \n",
       "unique                                                  1   \n",
       "top      America's answer to 'Inspector Clouseau'. It ...   \n",
       "freq                                                    1   \n",
       "\n",
       "                    Unnamed: 5  \\\n",
       "count                        1   \n",
       "unique                       1   \n",
       "top      unnoticed absurdities   \n",
       "freq                         1   \n",
       "\n",
       "                                               Unnamed: 6  \\\n",
       "count                                                   1   \n",
       "unique                                                  1   \n",
       "top      and recurring characters such as Johnny the s...   \n",
       "freq                                                    1   \n",
       "\n",
       "                                               Unnamed: 7  \\\n",
       "count                                                   1   \n",
       "unique                                                  1   \n",
       "top      but I think it was about right. The concept c...   \n",
       "freq                                                    1   \n",
       "\n",
       "                                               Unnamed: 8  \\\n",
       "count                                                   1   \n",
       "unique                                                  1   \n",
       "top      'Police Squad' made a successful transfer to ...   \n",
       "freq                                                    1   \n",
       "\n",
       "                                               Unnamed: 9 Unnamed: 10  \\\n",
       "count                                                   1           1   \n",
       "unique                                                  1           1   \n",
       "top      when the first of the 'Naked Gun' trilogy was...       Jerry   \n",
       "freq                                                    1           1   \n",
       "\n",
       "       Unnamed: 11                       Unnamed: 12 Unnamed: 13  \n",
       "count            1                                 1           1  \n",
       "unique           1                                 1           1  \n",
       "top          David   and Leslie had the last laugh.\"    positive  \n",
       "freq             1                                 1           1  "
      ]
     },
     "execution_count": 53,
     "metadata": {},
     "output_type": "execute_result"
    }
   ],
   "source": [
    "#description of dataset\n",
    "df.describe()"
   ]
  },
  {
   "cell_type": "code",
   "execution_count": 55,
   "id": "f09673f9-b807-40b5-a605-28c5d0eb80a6",
   "metadata": {},
   "outputs": [],
   "source": [
    "#step 3 :text processing"
   ]
  },
  {
   "cell_type": "code",
   "execution_count": 57,
   "id": "702ef36c-f518-49c9-8efb-e42e999fddb9",
   "metadata": {},
   "outputs": [],
   "source": [
    "# Initialize stemmer and stopwords\n",
    "stemmer = PorterStemmer()\n",
    "stop_words = set(stopwords.words('english'))"
   ]
  },
  {
   "cell_type": "code",
   "execution_count": 59,
   "id": "5d1904d2-1b9a-4be6-b453-d6c76d7797da",
   "metadata": {},
   "outputs": [],
   "source": [
    "# Define a preprocessing function\n",
    "def preprocess(text):\n",
    "    # Convert to lowercase\n",
    "    text = text.lower()\n",
    "    \n",
    "    # Remove punctuation\n",
    "    text = text.translate(str.maketrans('', '', string.punctuation))\n",
    "    \n",
    "    # Tokenize\n",
    "    words = word_tokenize(text)\n",
    "    \n",
    "    # Remove stopwords and apply stemming\n",
    "    filtered_words = [stemmer.stem(word) for word in words if word not in stop_words]\n",
    "    \n",
    "    return ' '.join(filtered_words)"
   ]
  },
  {
   "cell_type": "code",
   "execution_count": null,
   "id": "0b5287f8-b32a-4f46-b1b8-44c976b4dbe2",
   "metadata": {},
   "outputs": [],
   "source": [
    "# Apply the preprocessing function to the review column\n",
    "df['clean_review'] = df['review'].apply(preprocess)"
   ]
  },
  {
   "cell_type": "code",
   "execution_count": null,
   "id": "eeca43ea-1875-4d4b-a46d-8c0923fdc188",
   "metadata": {},
   "outputs": [],
   "source": [
    "# Display the first few preprocessed reviews\n",
    "print(df[['review', 'clean_review']].head(4))"
   ]
  },
  {
   "cell_type": "code",
   "execution_count": 27,
   "id": "d663328f-2233-4fbe-a5d6-6d987ca694b4",
   "metadata": {},
   "outputs": [],
   "source": [
    "# Step 4-->Feature extraction using Tf-idf(term frequency inverse document)"
   ]
  },
  {
   "cell_type": "code",
   "execution_count": 28,
   "id": "a79e44d8-a395-4042-9043-9814d025dd54",
   "metadata": {},
   "outputs": [],
   "source": [
    "# Convert sentiment (target) to binary labels: 0 = negative, 1 = positive\n",
    "label_encoder = LabelEncoder()\n",
    "y = label_encoder.fit_transform(df['sentiment'])  # e.g., ['positive', 'negative'] → [1, 0]"
   ]
  },
  {
   "cell_type": "code",
   "execution_count": 29,
   "id": "cc086c02-917a-4d61-b878-d35743cfdc2c",
   "metadata": {},
   "outputs": [],
   "source": [
    "# TF-IDF Vectorization\n",
    "tfidf = TfidfVectorizer(max_features=5000)  # You can adjust max_features if needed\n",
    "X_tfidf = tfidf.fit_transform(df['clean_review'])"
   ]
  },
  {
   "cell_type": "code",
   "execution_count": 30,
   "id": "e793ea85-1701-4c22-a602-a8e4ac4beb60",
   "metadata": {},
   "outputs": [
    {
     "name": "stdout",
     "output_type": "stream",
     "text": [
      "Original TF-IDF shape: (49999, 5000)\n"
     ]
    }
   ],
   "source": [
    "print(\"Original TF-IDF shape:\", X_tfidf.shape)"
   ]
  },
  {
   "cell_type": "code",
   "execution_count": null,
   "id": "80e0a3de-a20f-4325-9f7b-45c0412a8129",
   "metadata": {},
   "outputs": [],
   "source": [
    "# Step 5-->Feature section using chi-square test"
   ]
  },
  {
   "cell_type": "code",
   "execution_count": null,
   "id": "d1a16a91-01af-46d9-a03b-7f819c649579",
   "metadata": {},
   "outputs": [],
   "source": [
    "# Chi-square Feature Selection: select top 1000 features\n",
    "selector = SelectKBest(score_func=chi2, k=1000)\n",
    "X_selected = selector.fit_transform(X_tfidf, y)"
   ]
  },
  {
   "cell_type": "code",
   "execution_count": null,
   "id": "c2069a5b-35a1-4c5a-8f0b-bfa5e833c11a",
   "metadata": {},
   "outputs": [],
   "source": [
    "print(\"Selected features shape:\", X_selected.shape)"
   ]
  },
  {
   "cell_type": "code",
   "execution_count": null,
   "id": "f73635d8-e93a-470e-88f1-76b989606401",
   "metadata": {},
   "outputs": [],
   "source": [
    "# Step 6-->Classification Using Naive Bayes\n",
    "print(\"Split the data into training and testing sets\")\n",
    "\n",
    "print(\"Train the MultinomialNB model\")\n",
    "\n",
    "print(\"Predict sentiment labels for the test set\")"
   ]
  },
  {
   "cell_type": "code",
   "execution_count": null,
   "id": "0bd30766-2d79-4701-a9e1-449b09eef1e2",
   "metadata": {},
   "outputs": [],
   "source": [
    "# Split the data: 80% training, 20% testing\n",
    "X_train, X_test, y_train, y_test = train_test_split(X_selected, y, test_size=0.2, random_state=42)"
   ]
  },
  {
   "cell_type": "code",
   "execution_count": null,
   "id": "6658f023-da5d-472a-8a0f-8deb4c609fa2",
   "metadata": {},
   "outputs": [],
   "source": [
    "# Initialize and train the Multinomial Naive Bayes classifier\n",
    "model = MultinomialNB()\n",
    "model.fit(X_train, y_train)"
   ]
  },
  {
   "cell_type": "code",
   "execution_count": null,
   "id": "10e5679e-f00d-4de8-b120-8643ce2f3503",
   "metadata": {},
   "outputs": [],
   "source": [
    "# Predict on test data\n",
    "y_pred = model.predict(X_test)"
   ]
  },
  {
   "cell_type": "code",
   "execution_count": null,
   "id": "b5c59c6e-786f-49c4-aa22-fc1b931ac1d4",
   "metadata": {},
   "outputs": [],
   "source": [
    "# Evaluate the model\n",
    "print(classification_report(y_test, y_pred, target_names=['negative', 'positive']))\n"
   ]
  },
  {
   "cell_type": "code",
   "execution_count": null,
   "id": "89a4a1bc-9178-41cb-9b40-e4820f47ddfe",
   "metadata": {},
   "outputs": [],
   "source": [
    "# Step 7--> Evaluate Using Precision and Recall"
   ]
  },
  {
   "cell_type": "code",
   "execution_count": null,
   "id": "f05797d4-e304-4f62-bb2b-5829a5d8b0eb",
   "metadata": {},
   "outputs": [],
   "source": [
    "from sklearn.metrics import precision_score, recall_score\n",
    "# Calculate precision and recall\n",
    "precision = precision_score(y_test, y_pred)\n",
    "recall = recall_score(y_test, y_pred)\n",
    "\n",
    "print(\"Precision (Positive class):\", precision)\n",
    "print(\"Recall (Positive class):\", recall)"
   ]
  },
  {
   "cell_type": "code",
   "execution_count": null,
   "id": "849beee6-64cf-4e49-93aa-e1048e9aa205",
   "metadata": {},
   "outputs": [],
   "source": [
    "# Result Analysis-->\n",
    "\n",
    "print(\"Precision (86.3%): Most predicted positive reviews are truly positive.\")\n",
    "\n",
    "print(\"Recall (87.3%): The model correctly identifies most actual positive reviews.\")\n",
    "\n",
    "print(\"Conclusion: The model performs well with balanced precision and recall, making it reliable for sentiment analysis.\")"
   ]
  },
  {
   "cell_type": "code",
   "execution_count": null,
   "id": "87dd32c1-9e5b-4f40-a505-7cf5b88817e0",
   "metadata": {},
   "outputs": [],
   "source": []
  }
 ],
 "metadata": {
  "kernelspec": {
   "display_name": "Python 3 (ipykernel)",
   "language": "python",
   "name": "python3"
  },
  "language_info": {
   "codemirror_mode": {
    "name": "ipython",
    "version": 3
   },
   "file_extension": ".py",
   "mimetype": "text/x-python",
   "name": "python",
   "nbconvert_exporter": "python",
   "pygments_lexer": "ipython3",
   "version": "3.11.7"
  }
 },
 "nbformat": 4,
 "nbformat_minor": 5
}
